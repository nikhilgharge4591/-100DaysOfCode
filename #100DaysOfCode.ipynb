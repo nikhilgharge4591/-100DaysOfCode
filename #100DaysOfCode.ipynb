{
 "cells": [
  {
   "cell_type": "code",
   "execution_count": 1,
   "metadata": {},
   "outputs": [],
   "source": [
    "# Day 1\n",
    "\n",
    "# Easy Level Problem: TwoSum\n",
    "\n",
    "# Description - Given an array of integers and targetsum, return two numbers that sum upto targetSum."
   ]
  },
  {
   "cell_type": "code",
   "execution_count": 2,
   "metadata": {},
   "outputs": [],
   "source": [
    "# Solution: Brute Force\n",
    "\n",
    "def twoSum(array, targetSum):\n",
    "    \n",
    "    for i in range(len(array) - 1):\n",
    "        for j in range(i+1, len(array)):\n",
    "            if array[i] + array[j] == targetSum:\n",
    "                return [array[i], array[j]]\n",
    "    return []\n",
    "\n",
    "\n",
    "# Complexity Analysis:\n",
    "\n",
    "# Time Complexity Analysis: O(n^2)\n",
    "# Space Complexity Analysis: O(1)"
   ]
  },
  {
   "cell_type": "code",
   "execution_count": 3,
   "metadata": {},
   "outputs": [
    {
     "data": {
      "text/plain": [
       "[2, 7]"
      ]
     },
     "execution_count": 3,
     "metadata": {},
     "output_type": "execute_result"
    }
   ],
   "source": [
    "twoSum([2,7, 11, 15], 9)"
   ]
  },
  {
   "cell_type": "code",
   "execution_count": 4,
   "metadata": {},
   "outputs": [],
   "source": [
    "# Optimal Solution\n",
    "\n",
    "def twoSum(array, targetSum):\n",
    "    \n",
    "    numsDict = {}\n",
    "    for val in array:\n",
    "        rem = targetSum - val\n",
    "        if rem in numsDict:\n",
    "            return [rem, val]\n",
    "        else:\n",
    "            numsDict[val] = True\n",
    "    return []\n",
    "\n",
    "\n",
    "# Complexity Analysis:\n",
    "\n",
    "# Time Complexity Analysis: O(n)\n",
    "# Space Complexity Analysis: O(n)"
   ]
  },
  {
   "cell_type": "code",
   "execution_count": 5,
   "metadata": {},
   "outputs": [
    {
     "data": {
      "text/plain": [
       "[2, 7]"
      ]
     },
     "execution_count": 5,
     "metadata": {},
     "output_type": "execute_result"
    }
   ],
   "source": [
    "twoSum([2,7, 11, 15], 9)"
   ]
  },
  {
   "cell_type": "code",
   "execution_count": null,
   "metadata": {},
   "outputs": [],
   "source": []
  }
 ],
 "metadata": {
  "kernelspec": {
   "display_name": "Python 3",
   "language": "python",
   "name": "python3"
  },
  "language_info": {
   "codemirror_mode": {
    "name": "ipython",
    "version": 3
   },
   "file_extension": ".py",
   "mimetype": "text/x-python",
   "name": "python",
   "nbconvert_exporter": "python",
   "pygments_lexer": "ipython3",
   "version": "3.7.6"
  }
 },
 "nbformat": 4,
 "nbformat_minor": 4
}
