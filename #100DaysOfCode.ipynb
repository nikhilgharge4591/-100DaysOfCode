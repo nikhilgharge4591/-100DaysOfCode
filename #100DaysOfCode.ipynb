{
 "cells": [
  {
   "cell_type": "code",
   "execution_count": 1,
   "metadata": {},
   "outputs": [],
   "source": [
    "# Day 1\n",
    "\n",
    "# Easy Level Problem: TwoSum\n",
    "\n",
    "# Description - Given an array of integers and targetsum, return two numbers that sum upto targetSum."
   ]
  },
  {
   "cell_type": "code",
   "execution_count": 2,
   "metadata": {},
   "outputs": [],
   "source": [
    "# Solution: Brute Force\n",
    "\n",
    "def twoSum(array, targetSum):\n",
    "    \n",
    "    for i in range(len(array) - 1):\n",
    "        for j in range(i+1, len(array)):\n",
    "            if array[i] + array[j] == targetSum:\n",
    "                return [array[i], array[j]]\n",
    "    return []\n",
    "\n",
    "\n",
    "# Complexity Analysis:\n",
    "\n",
    "# Time Complexity Analysis: O(n^2)\n",
    "# Space Complexity Analysis: O(1)"
   ]
  },
  {
   "cell_type": "code",
   "execution_count": 3,
   "metadata": {},
   "outputs": [
    {
     "data": {
      "text/plain": [
       "[2, 7]"
      ]
     },
     "execution_count": 3,
     "metadata": {},
     "output_type": "execute_result"
    }
   ],
   "source": [
    "twoSum([2,7, 11, 15], 9)"
   ]
  },
  {
   "cell_type": "code",
   "execution_count": 4,
   "metadata": {},
   "outputs": [],
   "source": [
    "# Optimal Solution\n",
    "\n",
    "def twoSum(array, targetSum):\n",
    "    \n",
    "    numsDict = {}\n",
    "    for val in array:\n",
    "        rem = targetSum - val\n",
    "        if rem in numsDict:\n",
    "            return [rem, val]\n",
    "        else:\n",
    "            numsDict[val] = True\n",
    "    return []\n",
    "\n",
    "\n",
    "# Complexity Analysis:\n",
    "\n",
    "# Time Complexity Analysis: O(n)\n",
    "# Space Complexity Analysis: O(n)"
   ]
  },
  {
   "cell_type": "code",
   "execution_count": 5,
   "metadata": {},
   "outputs": [
    {
     "data": {
      "text/plain": [
       "[2, 7]"
      ]
     },
     "execution_count": 5,
     "metadata": {},
     "output_type": "execute_result"
    }
   ],
   "source": [
    "twoSum([2,7, 11, 15], 9)"
   ]
  },
  {
   "cell_type": "code",
   "execution_count": 6,
   "metadata": {},
   "outputs": [],
   "source": [
    "# Day 2\n",
    "\n",
    "# Easy Level Problem: isValidateSequence\n",
    "\n",
    "# Description - Given an two non-empty array of integers, determine whether second array is subsequence of first.\n",
    "\n"
   ]
  },
  {
   "cell_type": "code",
   "execution_count": 7,
   "metadata": {},
   "outputs": [],
   "source": [
    "# Optimal Solution \n",
    "\n",
    "def isValidateSequence(array, sequence):\n",
    "    \n",
    "    arrayIndx = 0\n",
    "    sequenceIndx = 0\n",
    "    \n",
    "    while arrayIndx < len(array) and sequenceIndx < len(sequence):\n",
    "        if sequence[sequenceIndx] == array[arrayIndx]:\n",
    "            sequenceIndx += 1\n",
    "        arrayIndx += 1\n",
    "    \n",
    "    return sequenceIndx == len(sequence)\n",
    "\n",
    "\n",
    "# Complexity Analysis:\n",
    "\n",
    "# Time Complexity Analysis: O(n)\n",
    "# Space Complexity Analysis: O(1)"
   ]
  },
  {
   "cell_type": "code",
   "execution_count": 8,
   "metadata": {},
   "outputs": [
    {
     "data": {
      "text/plain": [
       "True"
      ]
     },
     "execution_count": 8,
     "metadata": {},
     "output_type": "execute_result"
    }
   ],
   "source": [
    "isValidateSequence([5, 1, 22, 25, 6, -1, 8, 10], [1, 6, -1, 10])"
   ]
  },
  {
   "cell_type": "code",
   "execution_count": 9,
   "metadata": {},
   "outputs": [],
   "source": [
    "# Optimal Solution 2\n",
    "\n",
    "def isValidateSequence(array, sequence):\n",
    "    \n",
    "    sequenceIndx = 0\n",
    "    \n",
    "    for val in array:\n",
    "        if sequenceIndx == len(array):\n",
    "            break\n",
    "        if sequence[sequenceIndx] == val:\n",
    "            sequenceIndx += 1\n",
    "    return sequenceIndx == len(sequence)\n",
    "\n",
    "\n",
    "\n",
    "# Complexity Analysis:\n",
    "\n",
    "# Time Complexity Analysis: O(n)\n",
    "# Space Complexity Analysis: O(1)"
   ]
  },
  {
   "cell_type": "code",
   "execution_count": 10,
   "metadata": {},
   "outputs": [
    {
     "data": {
      "text/plain": [
       "True"
      ]
     },
     "execution_count": 10,
     "metadata": {},
     "output_type": "execute_result"
    }
   ],
   "source": [
    "isValidateSequence([5, 1, 22, 25, 6, -1, 8, 10], [1, 6, -1, 10])"
   ]
  },
  {
   "cell_type": "code",
   "execution_count": 11,
   "metadata": {},
   "outputs": [],
   "source": [
    "# Day 3\n",
    "\n",
    "# Easy Level Problem - Sorted Squared Array\n",
    "\n",
    "# Description - Write a function that takes in non-empty array of integers and returns the sorted array with their squares in ascending order\n",
    " "
   ]
  },
  {
   "cell_type": "code",
   "execution_count": 12,
   "metadata": {},
   "outputs": [],
   "source": [
    "# Brute Force Solution\n",
    "\n",
    "def sortedSquare(array):\n",
    "    \n",
    "    for i in range(len(array)):\n",
    "        \n",
    "        squaredValue = array[i] * array[i]\n",
    "        array[i] = squaredValue\n",
    "    \n",
    "    array.sort()\n",
    "    \n",
    "    return array\n",
    "\n",
    "\n",
    "# Complexity Analysis:\n",
    "\n",
    "# Time Complexity Analysis: O(n log(n))\n",
    "# Space Complexity Analysis: O(n)"
   ]
  },
  {
   "cell_type": "code",
   "execution_count": 13,
   "metadata": {},
   "outputs": [
    {
     "data": {
      "text/plain": [
       "[36, 49, 64, 81]"
      ]
     },
     "execution_count": 13,
     "metadata": {},
     "output_type": "execute_result"
    }
   ],
   "source": [
    "sortedSquare([-9, -8, -7, -6])"
   ]
  },
  {
   "cell_type": "code",
   "execution_count": 14,
   "metadata": {},
   "outputs": [],
   "source": [
    "# Optimal Solution\n",
    "\n",
    "def sortedSquare(array):\n",
    "    sortedArray = [0 for _ in array]\n",
    "    smallerValue = 0\n",
    "    largerValue = len(array) - 1\n",
    "    for i in reversed(range(len(array))):\n",
    "        \n",
    "        smallerVal = array[smallerValue]\n",
    "        largeVal = array[largerValue]\n",
    "        \n",
    "        if abs(smallerVal) > abs(largeVal):\n",
    "            smallSquaredValue = smallerVal * smallerVal\n",
    "            sortedArray[i] = smallSquaredValue\n",
    "            smallerValue += 1\n",
    "        else:\n",
    "            largeSquaredValue = largeVal * largeVal\n",
    "            sortedArray[i] = largeSquaredValue\n",
    "            largerValue -= 1\n",
    "    return sortedArray\n",
    "            \n",
    "\n",
    "# Complexity Analysis:\n",
    "\n",
    "# Time Complexity Analysis: O(n)\n",
    "# Space Complexity Analysis: O(n)"
   ]
  },
  {
   "cell_type": "code",
   "execution_count": 15,
   "metadata": {},
   "outputs": [
    {
     "data": {
      "text/plain": [
       "[36, 49, 64, 81]"
      ]
     },
     "execution_count": 15,
     "metadata": {},
     "output_type": "execute_result"
    }
   ],
   "source": [
    "sortedSquare([-9, -8, -7, -6])"
   ]
  },
  {
   "cell_type": "code",
   "execution_count": 16,
   "metadata": {},
   "outputs": [],
   "source": [
    "# Day 4\n",
    "\n",
    "#https://leetcode.com/problems/closest-binary-search-tree-value/\n",
    "\n",
    "# Easy Level Problem - Closet-binary-search-tree-value\n",
    "\n",
    "# Description - Given an BST and target value, find the value that is closet to target value and return that closet value."
   ]
  },
  {
   "cell_type": "code",
   "execution_count": 17,
   "metadata": {},
   "outputs": [],
   "source": [
    "# Brute Force Solution\n",
    "\n",
    "def closetValueInBST(tree, target):\n",
    "    \n",
    "    return helperFunctionToIdentifyCloset(tree, target, float(\"inf\"))\n",
    "\n",
    "\n",
    "def helperFunctionToIdentifyCloset(tree, target, closet):\n",
    "    \n",
    "    # Base condition\n",
    "    \n",
    "    if tree is None:\n",
    "        return closet\n",
    "    \n",
    "    if abs(target - closet) > abs(target - tree.value):\n",
    "        closet = tree.value\n",
    "        \n",
    "    if target > tree.value:\n",
    "        helperFunctionToIdentifyCloset(tree.right, target, closet)\n",
    "    elif target < tree.value:\n",
    "        helperFunctionToIdentifyCloset(tree.left, target, closet)\n",
    "    else:\n",
    "        return closet\n",
    "\n",
    "\n",
    "class BST:\n",
    "    def __init__(self, value):\n",
    "        self.value = value\n",
    "        self.left = None\n",
    "        self.right = None\n",
    "        \n",
    "\n",
    "\n",
    "# Complexity Analysis:\n",
    "\n",
    "# Average Case\n",
    "\n",
    "# Time Complexity Analysis: O(Log n)\n",
    "# Space Complexity Analysis: O(Log n)\n",
    "\n",
    "# Worst Case\n",
    "\n",
    "# Time Complexity Analysis: O(n)\n",
    "# Space Complexity Analysis: O(n)"
   ]
  },
  {
   "cell_type": "code",
   "execution_count": 18,
   "metadata": {},
   "outputs": [],
   "source": [
    "# Day 5\n",
    "\n",
    "# Easy Level Problem - Valid Parenthesis\n",
    "\n",
    "# Description - Given a string consisting of \"(\" , \")\", \"{\", \"}\" and \"[\", \"]\" , identify whether there exists balanced brackets."
   ]
  },
  {
   "cell_type": "code",
   "execution_count": 19,
   "metadata": {},
   "outputs": [],
   "source": [
    "# Optimal Solution\n",
    "\n",
    "def validParenthesis(string):\n",
    "   \n",
    "    openingBrackets = \"([{\"\n",
    "    closingBrackets = \"}])\"\n",
    "    matchingBrackets = {\")\":\"(\", \"]\":\"[\", \"}\":\"{\"}\n",
    "    stack = []\n",
    "    for char in string:\n",
    "        if char in openingBrackets:\n",
    "            stack.append(char)\n",
    "        elif char in closingBrackets:\n",
    "            if len(stack) == 0:\n",
    "                return False\n",
    "            elif stack[-1] == matchingBrackets[char]:\n",
    "                stack.pop()\n",
    "            else:\n",
    "                return False\n",
    "    return len(stack) == 0\n",
    "\n",
    "\n",
    "# Complexity Analysis\n",
    "\n",
    "# Time Complexity - O(n)\n",
    "# Space Complexity - O(n)"
   ]
  },
  {
   "cell_type": "code",
   "execution_count": 20,
   "metadata": {},
   "outputs": [
    {
     "data": {
      "text/plain": [
       "True"
      ]
     },
     "execution_count": 20,
     "metadata": {},
     "output_type": "execute_result"
    }
   ],
   "source": [
    "validParenthesis(\"()[]{}\")"
   ]
  },
  {
   "cell_type": "code",
   "execution_count": 21,
   "metadata": {},
   "outputs": [],
   "source": [
    "# Day 7 \n",
    "\n",
    "# Easy Level Problem - Node Depth\n",
    "\n",
    "# Description - Given the root of a binary tree, return its maximum depth. A binary tree's maximum depth is the number of nodes along the longest path from the root node down to the farthest leaf node."
   ]
  },
  {
   "cell_type": "code",
   "execution_count": 22,
   "metadata": {},
   "outputs": [],
   "source": [
    "def nodeDepths(root, depth=0):\n",
    "    # Write your code here.\n",
    "    if root is None:\n",
    "        return 0\n",
    "    print(depth)\n",
    "    return depth + nodeDepths(root.left, depth+1) + nodeDepths(root.right, depth+1)\n",
    "\n",
    "\n",
    "\n",
    "# This is the class of the input binary tree.\n",
    "class BinaryTree:\n",
    "    def __init__(self, value):\n",
    "        self.value = value\n",
    "        self.left = None\n",
    "        self.right = None\n",
    "\n",
    "# Average Case\n",
    "# Time Complexity - O(n)\n",
    "# Space Complexity - O(h) - H is the height of BT"
   ]
  },
  {
   "cell_type": "code",
   "execution_count": 1,
   "metadata": {},
   "outputs": [],
   "source": [
    "# Day 8\n",
    "\n",
    "# Easy Level Problem - MoveElementToEnd\n",
    "\n",
    "# Description - Given an array of Integers and given number, move all instances of that integer to end of array"
   ]
  },
  {
   "cell_type": "code",
   "execution_count": 2,
   "metadata": {},
   "outputs": [],
   "source": [
    "# MoveToElement\n",
    "\n",
    "def moveElementToEnd(array, ToMove):\n",
    "    i = 0\n",
    "    j = len(array) - 1\n",
    "    while i < j:\n",
    "        if i < j and array[j] == ToMove:\n",
    "            j-=1\n",
    "        if array[i] == ToMove:\n",
    "            array[i], array[j] = array[j], array[i]\n",
    "        i+=1\n",
    "    return array\n",
    "\n",
    "\n",
    "\n",
    "# Complexity Analysis\n",
    "\n",
    "# Time Complexity - O(n)\n",
    "# Space Complexity - O(1)"
   ]
  },
  {
   "cell_type": "code",
   "execution_count": 3,
   "metadata": {},
   "outputs": [
    {
     "data": {
      "text/plain": [
       "[4, 1, 3, 2, 2, 2, 2, 2]"
      ]
     },
     "execution_count": 3,
     "metadata": {},
     "output_type": "execute_result"
    }
   ],
   "source": [
    "moveElementToEnd([2, 1, 3, 2, 2, 2, 4, 2], 2)"
   ]
  },
  {
   "cell_type": "code",
   "execution_count": 1,
   "metadata": {},
   "outputs": [],
   "source": [
    "# Day 9\n",
    "\n",
    "# Medium Level Problem: Kadane's Algorithm\n",
    "\n",
    "# Description - Write a function that takes an array and returns the maximum sum that can be obtained by summing up the integers from that array."
   ]
  },
  {
   "cell_type": "code",
   "execution_count": 3,
   "metadata": {},
   "outputs": [],
   "source": [
    "def kadanesAlgorithm(array):\n",
    "    # Write your code here.\n",
    "    maxEndingHere = array[0]\n",
    "    maxSoFar = array[0]\n",
    "    for num in array[1:]:\n",
    "        maxEndingHere = max(maxEndingHere + num, num)\n",
    "        maxSoFar = max(maxEndingHere, maxSoFar)\n",
    "    return maxSoFar\n",
    "\n",
    "\n",
    "# Complexity Analysis\n",
    "\n",
    "# Time Complexity - O(n)\n",
    "# Space Complexity - O(1)"
   ]
  },
  {
   "cell_type": "code",
   "execution_count": 5,
   "metadata": {},
   "outputs": [
    {
     "data": {
      "text/plain": [
       "18"
      ]
     },
     "execution_count": 5,
     "metadata": {},
     "output_type": "execute_result"
    }
   ],
   "source": [
    "kadanesAlgorithm([-2,3,-4,5,6,7])"
   ]
  },
  {
   "cell_type": "code",
   "execution_count": 1,
   "metadata": {},
   "outputs": [],
   "source": [
    "# Day 10\n",
    "\n",
    "# Medium Level Problem - Product Sum\n",
    "\n",
    "# Description - Write a function that takes in special array and return its product sum."
   ]
  },
  {
   "cell_type": "code",
   "execution_count": 2,
   "metadata": {},
   "outputs": [],
   "source": [
    "def productSum(array, multiplier = 1):\n",
    "    # Write your code here.\n",
    "    sum = 0\n",
    "    for element in array:\n",
    "        if type(element) is list:\n",
    "            sum += productSum(element, multiplier + 1)\n",
    "        else:\n",
    "            sum += element\n",
    "    return sum * multiplier\n",
    "\n",
    "# Complexity Analysis:\n",
    "\n",
    "# Time Complexity - O(n)  n - Elements in the array\n",
    "# Space Complexity - O(d)  d - depth of the special arrays in array"
   ]
  },
  {
   "cell_type": "code",
   "execution_count": 3,
   "metadata": {},
   "outputs": [
    {
     "data": {
      "text/plain": [
       "23"
      ]
     },
     "execution_count": 3,
     "metadata": {},
     "output_type": "execute_result"
    }
   ],
   "source": [
    "productSum([2,3,[4,5]])"
   ]
  },
  {
   "cell_type": "code",
   "execution_count": 4,
   "metadata": {},
   "outputs": [],
   "source": [
    "# Day 11\n",
    "\n",
    "# Medium Level Problem  - Three largest Numbers\n",
    "\n",
    "# Description - Find the three largest numbers from given array and return the three largest numbers i sorted order."
   ]
  },
  {
   "cell_type": "code",
   "execution_count": null,
   "metadata": {},
   "outputs": [],
   "source": [
    "def threeLargestNumbers(array):\n",
    "    threeLargestArr = [None, None, None]\n",
    "    for val in array:\n",
    "        updateThreeLargestNumbers(array, val, threeLargestArr)\n",
    "    return threeLargestArr\n",
    "\n",
    "def updateThreeLargestNumbers(array, val, threeLargestArr):\n",
    "    if array[2] is None or val > threeLargestArr:\n",
    "        shiftAndUpdate(val, array, 2)\n",
    "    if array[1] is None or val > threeLargestArr:\n",
    "        shiftAndUpdate(val, array, 1)\n",
    "    if array[0] is None or val > threeLargestArr:\n",
    "        shiftAndUpdate(val, array, 0)\n",
    "\n",
    "def shiftAndUpdate(val, Array, indx):\n",
    "    for i in range(indx + 1):\n",
    "        if i == indx:\n",
    "            array[i] = val\n",
    "        else:\n",
    "            array[i] = array[i+1]\n",
    "            \n",
    "\n",
    "# Complexity Analysis:\n",
    "\n",
    "# Time Complexity - O(n)  n - Elements in the array\n",
    "# Space Complexity - O(1)"
   ]
  },
  {
   "cell_type": "code",
   "execution_count": 5,
   "metadata": {},
   "outputs": [],
   "source": [
    "# Day 12\n",
    "\n",
    "# Medium Level Problem  - Pallindrome Check\n",
    "\n",
    "# Description - Write a function that takes in an string and returns a boolean value indicating whether its a pallindrome or not."
   ]
  },
  {
   "cell_type": "code",
   "execution_count": 22,
   "metadata": {},
   "outputs": [],
   "source": [
    "# Brute Force Solution\n",
    "\n",
    "def checkPallindrome(string):\n",
    "    reversed_Str = \"\"\n",
    "    for i in reversed(range(len(string))):\n",
    "        reversed_Str += string[i]\n",
    "    return reversed_Str == string\n",
    "\n",
    "\n",
    "# Complexity Analysis\n",
    "\n",
    "# Time Complexity - O(n^2)\n",
    "# Space Complexity - O(n)"
   ]
  },
  {
   "cell_type": "code",
   "execution_count": 24,
   "metadata": {},
   "outputs": [
    {
     "data": {
      "text/plain": [
       "True"
      ]
     },
     "execution_count": 24,
     "metadata": {},
     "output_type": "execute_result"
    }
   ],
   "source": [
    "checkPallindrome(\"appa\")"
   ]
  },
  {
   "cell_type": "code",
   "execution_count": 27,
   "metadata": {},
   "outputs": [],
   "source": [
    "# Optimal Solution\n",
    "def checkPallindrome(string):\n",
    "    leftIndx = 0\n",
    "    rightIndx = len(string) - 1\n",
    "    while leftIndx < rightIndx:\n",
    "        if string[leftIndx] != string[rightIndx]:\n",
    "            return False\n",
    "        leftIndx += 1\n",
    "        rightIndx -= 1\n",
    "    return True\n",
    "\n",
    "\n",
    "# Complexity Analysis\n",
    "\n",
    "# Time Complexity - O(n)\n",
    "# Space Complexity - O(1)"
   ]
  },
  {
   "cell_type": "code",
   "execution_count": 28,
   "metadata": {},
   "outputs": [
    {
     "data": {
      "text/plain": [
       "True"
      ]
     },
     "execution_count": 28,
     "metadata": {},
     "output_type": "execute_result"
    }
   ],
   "source": [
    "checkPallindrome(\"appa\")"
   ]
  },
  {
   "cell_type": "code",
   "execution_count": 1,
   "metadata": {},
   "outputs": [],
   "source": [
    "# Day 12 \n",
    "\n",
    "# Medium Level Problem - Minimum Waiting Time\n",
    "\n",
    "# Description - Determine the minimum waiting time i.e. total time for all the queries to execute which are given in the array"
   ]
  },
  {
   "cell_type": "code",
   "execution_count": 6,
   "metadata": {},
   "outputs": [],
   "source": [
    "# Optimal Solution\n",
    "\n",
    "def minimumWaitingTime(queries):\n",
    "    queries.sort()\n",
    "    totalTime = 0\n",
    "    for idx, duration in enumerate(queries):\n",
    "        queriesLeft = len(queries) - (idx+1)\n",
    "        totalTime += duration * queriesLeft\n",
    "    return totalTime\n",
    "\n",
    "\n",
    "# Greedy Algorithm\n",
    "\n",
    "# Time Complexity: O(nlogn)\n",
    "# Space Complexity: O(1)"
   ]
  },
  {
   "cell_type": "code",
   "execution_count": 7,
   "metadata": {},
   "outputs": [
    {
     "data": {
      "text/plain": [
       "17"
      ]
     },
     "execution_count": 7,
     "metadata": {},
     "output_type": "execute_result"
    }
   ],
   "source": [
    "minimumWaitingTime([3,2,1,2,6])"
   ]
  },
  {
   "cell_type": "code",
   "execution_count": null,
   "metadata": {},
   "outputs": [],
   "source": []
  }
 ],
 "metadata": {
  "kernelspec": {
   "display_name": "Python 3",
   "language": "python",
   "name": "python3"
  },
  "language_info": {
   "codemirror_mode": {
    "name": "ipython",
    "version": 3
   },
   "file_extension": ".py",
   "mimetype": "text/x-python",
   "name": "python",
   "nbconvert_exporter": "python",
   "pygments_lexer": "ipython3",
   "version": "3.7.6"
  }
 },
 "nbformat": 4,
 "nbformat_minor": 4
}
