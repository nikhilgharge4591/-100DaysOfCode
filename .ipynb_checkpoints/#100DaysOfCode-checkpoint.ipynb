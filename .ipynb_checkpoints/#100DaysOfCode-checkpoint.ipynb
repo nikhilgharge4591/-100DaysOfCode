{
 "cells": [
  {
   "cell_type": "code",
   "execution_count": 1,
   "metadata": {},
   "outputs": [],
   "source": [
    "# Day 1\n",
    "\n",
    "# Easy Level Problem: TwoSum\n",
    "\n",
    "# Description - Given an array of integers and targetsum, return two numbers that sum upto targetSum."
   ]
  },
  {
   "cell_type": "code",
   "execution_count": 2,
   "metadata": {},
   "outputs": [],
   "source": [
    "# Solution: Brute Force\n",
    "\n",
    "def twoSum(array, targetSum):\n",
    "    \n",
    "    for i in range(len(array) - 1):\n",
    "        for j in range(i+1, len(array)):\n",
    "            if array[i] + array[j] == targetSum:\n",
    "                return [array[i], array[j]]\n",
    "    return []\n",
    "\n",
    "\n",
    "# Complexity Analysis:\n",
    "\n",
    "# Time Complexity Analysis: O(n^2)\n",
    "# Space Complexity Analysis: O(1)"
   ]
  },
  {
   "cell_type": "code",
   "execution_count": 3,
   "metadata": {},
   "outputs": [
    {
     "data": {
      "text/plain": [
       "[2, 7]"
      ]
     },
     "execution_count": 3,
     "metadata": {},
     "output_type": "execute_result"
    }
   ],
   "source": [
    "twoSum([2,7, 11, 15], 9)"
   ]
  },
  {
   "cell_type": "code",
   "execution_count": 4,
   "metadata": {},
   "outputs": [],
   "source": [
    "# Optimal Solution\n",
    "\n",
    "def twoSum(array, targetSum):\n",
    "    \n",
    "    numsDict = {}\n",
    "    for val in array:\n",
    "        rem = targetSum - val\n",
    "        if rem in numsDict:\n",
    "            return [rem, val]\n",
    "        else:\n",
    "            numsDict[val] = True\n",
    "    return []\n",
    "\n",
    "\n",
    "# Complexity Analysis:\n",
    "\n",
    "# Time Complexity Analysis: O(n)\n",
    "# Space Complexity Analysis: O(n)"
   ]
  },
  {
   "cell_type": "code",
   "execution_count": 5,
   "metadata": {},
   "outputs": [
    {
     "data": {
      "text/plain": [
       "[2, 7]"
      ]
     },
     "execution_count": 5,
     "metadata": {},
     "output_type": "execute_result"
    }
   ],
   "source": [
    "twoSum([2,7, 11, 15], 9)"
   ]
  },
  {
   "cell_type": "code",
   "execution_count": 1,
   "metadata": {},
   "outputs": [],
   "source": [
    "# Day 2\n",
    "\n",
    "# Easy Level Problem: isValidateSequence\n",
    "\n",
    "# Description - Given an two non-empty array of integers, determine whether second array is subsequence of first.\n",
    "\n"
   ]
  },
  {
   "cell_type": "code",
   "execution_count": 2,
   "metadata": {},
   "outputs": [],
   "source": [
    "# Optimal Solution \n",
    "\n",
    "def isValidateSequence(array, sequence):\n",
    "    \n",
    "    arrayIndx = 0\n",
    "    sequenceIndx = 0\n",
    "    \n",
    "    while arrayIndx < len(array) and sequenceIndx < len(sequence):\n",
    "        if sequence[sequenceIndx] == array[arrayIndx]:\n",
    "            sequenceIndx += 1\n",
    "        arrayIndx += 1\n",
    "    \n",
    "    return sequenceIndx == len(sequence)\n",
    "\n",
    "\n",
    "# Complexity Analysis:\n",
    "\n",
    "# Time Complexity Analysis: O(n)\n",
    "# Space Complexity Analysis: O(1)"
   ]
  },
  {
   "cell_type": "code",
   "execution_count": 3,
   "metadata": {},
   "outputs": [
    {
     "data": {
      "text/plain": [
       "True"
      ]
     },
     "execution_count": 3,
     "metadata": {},
     "output_type": "execute_result"
    }
   ],
   "source": [
    "isValidateSequence([5, 1, 22, 25, 6, -1, 8, 10], [1, 6, -1, 10])"
   ]
  },
  {
   "cell_type": "code",
   "execution_count": 4,
   "metadata": {},
   "outputs": [],
   "source": [
    "# Optimal Solution 2\n",
    "\n",
    "def isValidateSequence(array, sequence):\n",
    "    \n",
    "    sequenceIndx = 0\n",
    "    \n",
    "    for val in array:\n",
    "        if sequenceIndx == len(array):\n",
    "            break\n",
    "        if sequence[sequenceIndx] == val:\n",
    "            sequenceIndx += 1\n",
    "    return sequenceIndx == len(sequence)\n",
    "\n",
    "\n",
    "\n",
    "# Complexity Analysis:\n",
    "\n",
    "# Time Complexity Analysis: O(n)\n",
    "# Space Complexity Analysis: O(1)"
   ]
  },
  {
   "cell_type": "code",
   "execution_count": 5,
   "metadata": {},
   "outputs": [
    {
     "data": {
      "text/plain": [
       "True"
      ]
     },
     "execution_count": 5,
     "metadata": {},
     "output_type": "execute_result"
    }
   ],
   "source": [
    "isValidateSequence([5, 1, 22, 25, 6, -1, 8, 10], [1, 6, -1, 10])"
   ]
  },
  {
   "cell_type": "code",
   "execution_count": 1,
   "metadata": {},
   "outputs": [],
   "source": [
    "# Day 3\n",
    "\n",
    "# Easy Level Problem - Sorted Squared Array\n",
    "\n",
    "# Description - Write a function that takes in non-empty array of integers and returns the sorted array with their squares in ascending order\n",
    " "
   ]
  },
  {
   "cell_type": "code",
   "execution_count": 4,
   "metadata": {},
   "outputs": [],
   "source": [
    "# Brute Force Solution\n",
    "\n",
    "def sortedSquare(array):\n",
    "    \n",
    "    for i in range(len(array)):\n",
    "        \n",
    "        squaredValue = array[i] * array[i]\n",
    "        array[i] = squaredValue\n",
    "    \n",
    "    array.sort()\n",
    "    \n",
    "    return array\n",
    "\n",
    "\n",
    "# Complexity Analysis:\n",
    "\n",
    "# Time Complexity Analysis: O(n log(n))\n",
    "# Space Complexity Analysis: O(n)"
   ]
  },
  {
   "cell_type": "code",
   "execution_count": 5,
   "metadata": {},
   "outputs": [
    {
     "data": {
      "text/plain": [
       "[36, 49, 64, 81]"
      ]
     },
     "execution_count": 5,
     "metadata": {},
     "output_type": "execute_result"
    }
   ],
   "source": [
    "sortedSquare([-9, -8, -7, -6])"
   ]
  },
  {
   "cell_type": "code",
   "execution_count": 12,
   "metadata": {},
   "outputs": [],
   "source": [
    "# Optimal Solution\n",
    "\n",
    "def sortedSquare(array):\n",
    "    sortedArray = [0 for _ in array]\n",
    "    smallerValue = 0\n",
    "    largerValue = len(array) - 1\n",
    "    for i in reversed(range(len(array))):\n",
    "        if abs(smallerValue) > abs(largerValue):\n",
    "            smallSquaredValue = (array[smallerValue] * array[smallerValue])\n",
    "            sortedArray[i] = smallSquaredValue\n",
    "            smallerValue += 1\n",
    "        else:\n",
    "            largeSquaredValue = (array[largerValue] * array[largerValue])\n",
    "            sortedArray[i] = largeSquaredValue\n",
    "            largerValue -= 1\n",
    "    return sortedArray\n",
    "            \n",
    "\n",
    "# Complexity Analysis:\n",
    "\n",
    "# Time Complexity Analysis: O(n)\n",
    "# Space Complexity Analysis: O(n)"
   ]
  },
  {
   "cell_type": "code",
   "execution_count": 13,
   "metadata": {},
   "outputs": [
    {
     "data": {
      "text/plain": [
       "[81, 64, 49, 36]"
      ]
     },
     "execution_count": 13,
     "metadata": {},
     "output_type": "execute_result"
    }
   ],
   "source": [
    "sortedSquare([-9, -8, -7, -6])"
   ]
  },
  {
   "cell_type": "code",
   "execution_count": null,
   "metadata": {},
   "outputs": [],
   "source": []
  }
 ],
 "metadata": {
  "kernelspec": {
   "display_name": "Python 3",
   "language": "python",
   "name": "python3"
  },
  "language_info": {
   "codemirror_mode": {
    "name": "ipython",
    "version": 3
   },
   "file_extension": ".py",
   "mimetype": "text/x-python",
   "name": "python",
   "nbconvert_exporter": "python",
   "pygments_lexer": "ipython3",
   "version": "3.7.6"
  }
 },
 "nbformat": 4,
 "nbformat_minor": 4
}
